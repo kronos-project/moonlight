{
 "cells": [
  {
   "cell_type": "code",
   "execution_count": null,
   "metadata": {},
   "outputs": [],
   "source": [
    "from scapy.layers.all import Raw, TCP\n",
    "from scapy.utils import PcapReader\n",
    "from moonlight.net import PacketReader\n",
    "from datetime import datetime\n",
    "\n",
    "import pprint as pp"
   ]
  },
  {
   "cell_type": "code",
   "execution_count": null,
   "metadata": {},
   "outputs": [],
   "source": [
    "def advance(cap):\n",
    "    while True:\n",
    "        p = cap.next()\n",
    "        if not TCP in p.layers():\n",
    "            continue\n",
    "        if not isinstance(p[TCP].payload, Raw):\n",
    "            continue\n",
    "        if not bytes(p[TCP].payload).startswith(b'\\x0D\\xF0'):\n",
    "            continue\n",
    "        return p\n"
   ]
  },
  {
   "cell_type": "code",
   "execution_count": null,
   "metadata": {},
   "outputs": [],
   "source": [
    "cap = PcapReader(\"/Users/ethanzeigler/Programming/KI/moonlight/data/raw/diego2longer_than_need_be.pcapng\")\n",
    "pr = PacketReader(msg_def_folder=\"/Users/ethanzeigler/Programming/KI/moonlight/data/messagedef/latest\")\n",
    "p = advance(cap)"
   ]
  },
  {
   "cell_type": "code",
   "execution_count": null,
   "metadata": {},
   "outputs": [],
   "source": [
    "packet = advance(cap)\n",
    "pp.pprint(datetime.fromtimestamp(float(packet.time)).strftime('%Y-%m-%d %H:%M:%S.%f'))\n",
    "msg = pr.decode_packet(bytes(packet[TCP].payload))\n",
    "pp.pprint(msg)\n",
    "    "
   ]
  },
  {
   "cell_type": "code",
   "execution_count": null,
   "metadata": {},
   "outputs": [],
   "source": [
    "packet.time"
   ]
  },
  {
   "cell_type": "code",
   "execution_count": null,
   "metadata": {},
   "outputs": [],
   "source": [
    "packet_stored = packet"
   ]
  },
  {
   "cell_type": "code",
   "execution_count": null,
   "metadata": {},
   "outputs": [],
   "source": [
    "msg = pr.decode_packet(bytes(packet[TCP].payload))\n",
    "pp.pprint(msg)"
   ]
  }
 ],
 "metadata": {
  "interpreter": {
   "hash": "dfd5ee3b562da3835ba57bb3df45a18f6804d035fd03673216213476a026c2a9"
  },
  "kernelspec": {
   "display_name": "Python 3.10.2 ('moonlight-c61LQZnc-py3.10')",
   "language": "python",
   "name": "python3"
  },
  "language_info": {
   "codemirror_mode": {
    "name": "ipython",
    "version": 3
   },
   "file_extension": ".py",
   "mimetype": "text/x-python",
   "name": "python",
   "nbconvert_exporter": "python",
   "pygments_lexer": "ipython3",
   "version": "3.10.2"
  },
  "orig_nbformat": 4
 },
 "nbformat": 4,
 "nbformat_minor": 2
}
