{
 "cells": [
  {
   "cell_type": "code",
   "execution_count": 1,
   "metadata": {},
   "outputs": [
    {
     "name": "stderr",
     "output_type": "stream",
     "text": [
      "WARNING: No IPv4 address found on en2 !\n",
      "WARNING: No IPv4 address found on en1 !\n",
      "WARNING: more No IPv4 address found on bridge0 !\n"
     ]
    }
   ],
   "source": [
    "from scapy.layers.all import Raw, TCP\n",
    "from scapy.utils import PcapReader\n",
    "from moonlight.net.capture import PacketReader\n",
    "\n",
    "import pprint as pp"
   ]
  },
  {
   "cell_type": "code",
   "execution_count": 2,
   "metadata": {},
   "outputs": [],
   "source": [
    "def advance(cap):\n",
    "    while True:\n",
    "        p = cap.next()\n",
    "        if not TCP in p.layers():\n",
    "            continue\n",
    "        if not isinstance(p[TCP].payload, Raw):\n",
    "            continue\n",
    "        if not bytes(p[TCP].payload).startswith(b'\\x0D\\xF0'):\n",
    "            continue\n",
    "        return p\n"
   ]
  },
  {
   "cell_type": "code",
   "execution_count": 3,
   "metadata": {},
   "outputs": [
    {
     "name": "stderr",
     "output_type": "stream",
     "text": [
      "WARNING:root:A DML field was found without a type. Since there's only one known place this happens in the current files, assuming it's the GlobalID missing the GID type\n"
     ]
    }
   ],
   "source": [
    "cap = PcapReader(\"/Users/ethanzeigler/Programming/KI/packet_captures/beastmoo.pcapng\")\n",
    "pr = PacketReader(msg_def_folder=\"./../res/dml/messages/\")\n",
    "p = advance(cap)"
   ]
  },
  {
   "cell_type": "code",
   "execution_count": 60,
   "metadata": {},
   "outputs": [
    {
     "name": "stdout",
     "output_type": "stream",
     "text": [
      "<moonlight.net.control.KeepAliveMessage object at 0x10c7e7040>\n"
     ]
    }
   ],
   "source": [
    "packet = advance(cap)\n",
    "msg = pr.decode_packet(bytes(packet[TCP].payload))\n",
    "pp.pprint(msg)\n",
    "    "
   ]
  },
  {
   "cell_type": "code",
   "execution_count": 63,
   "metadata": {},
   "outputs": [],
   "source": [
    "packet_stored = packet"
   ]
  },
  {
   "cell_type": "code",
   "execution_count": 61,
   "metadata": {},
   "outputs": [
    {
     "ename": "ValueError",
     "evalue": "packet did not end with a null byte",
     "output_type": "error",
     "traceback": [
      "\u001b[0;31m---------------------------------------------------------------------------\u001b[0m",
      "\u001b[0;31mValueError\u001b[0m                                Traceback (most recent call last)",
      "\u001b[1;32m/Users/ethanzeigler/Programming/KI/moonlight/notebooks/example.ipynb Cell 6'\u001b[0m in \u001b[0;36m<cell line: 1>\u001b[0;34m()\u001b[0m\n\u001b[0;32m----> <a href='vscode-notebook-cell:/Users/ethanzeigler/Programming/KI/moonlight/notebooks/example.ipynb#ch0000006?line=0'>1</a>\u001b[0m msg \u001b[39m=\u001b[39m pr\u001b[39m.\u001b[39;49mdecode_packet(\u001b[39mbytes\u001b[39;49m(packet[TCP]\u001b[39m.\u001b[39;49mpayload))\n\u001b[1;32m      <a href='vscode-notebook-cell:/Users/ethanzeigler/Programming/KI/moonlight/notebooks/example.ipynb#ch0000006?line=1'>2</a>\u001b[0m pp\u001b[39m.\u001b[39mpprint(msg)\n",
      "File \u001b[0;32m~/Programming/KI/moonlight/moonlight/net/capture.py:57\u001b[0m, in \u001b[0;36mPacketReader.decode_packet\u001b[0;34m(self, bites)\u001b[0m\n\u001b[1;32m     <a href='file:///Users/ethanzeigler/Programming/KI/moonlight/moonlight/net/capture.py?line=53'>54</a>\u001b[0m     \u001b[39mreturn\u001b[39;00m \u001b[39mNone\u001b[39;00m\n\u001b[1;32m     <a href='file:///Users/ethanzeigler/Programming/KI/moonlight/moonlight/net/capture.py?line=55'>56</a>\u001b[0m \u001b[39mif\u001b[39;00m header\u001b[39m.\u001b[39mcontent_is_control \u001b[39m!=\u001b[39m \u001b[39m0\u001b[39m:\n\u001b[0;32m---> <a href='file:///Users/ethanzeigler/Programming/KI/moonlight/moonlight/net/capture.py?line=56'>57</a>\u001b[0m     \u001b[39mreturn\u001b[39;00m \u001b[39mself\u001b[39;49m\u001b[39m.\u001b[39;49mcontrol_protocol\u001b[39m.\u001b[39;49mdecode_packet(\n\u001b[1;32m     <a href='file:///Users/ethanzeigler/Programming/KI/moonlight/moonlight/net/capture.py?line=57'>58</a>\u001b[0m         reader, header, original_data\u001b[39m=\u001b[39;49mbites\n\u001b[1;32m     <a href='file:///Users/ethanzeigler/Programming/KI/moonlight/moonlight/net/capture.py?line=58'>59</a>\u001b[0m     )\n\u001b[1;32m     <a href='file:///Users/ethanzeigler/Programming/KI/moonlight/moonlight/net/capture.py?line=60'>61</a>\u001b[0m \u001b[39mreturn\u001b[39;00m \u001b[39mself\u001b[39m\u001b[39m.\u001b[39mdml_protocol\u001b[39m.\u001b[39mdecode_packet(bites)\n",
      "File \u001b[0;32m~/Programming/KI/moonlight/moonlight/net/control.py:223\u001b[0m, in \u001b[0;36mControlProtocol.decode_packet\u001b[0;34m(self, reader, header, original_data, has_ki_header)\u001b[0m\n\u001b[1;32m    <a href='file:///Users/ethanzeigler/Programming/KI/moonlight/moonlight/net/control.py?line=215'>216</a>\u001b[0m     \u001b[39mreturn\u001b[39;00m SessionAcceptMessage\u001b[39m.\u001b[39mfrom_bytes(\n\u001b[1;32m    <a href='file:///Users/ethanzeigler/Programming/KI/moonlight/moonlight/net/control.py?line=216'>217</a>\u001b[0m         packet_header\u001b[39m=\u001b[39mheader,\n\u001b[1;32m    <a href='file:///Users/ethanzeigler/Programming/KI/moonlight/moonlight/net/control.py?line=217'>218</a>\u001b[0m         reader\u001b[39m=\u001b[39mreader,\n\u001b[1;32m    <a href='file:///Users/ethanzeigler/Programming/KI/moonlight/moonlight/net/control.py?line=218'>219</a>\u001b[0m         original_data\u001b[39m=\u001b[39moriginal_data,\n\u001b[1;32m    <a href='file:///Users/ethanzeigler/Programming/KI/moonlight/moonlight/net/control.py?line=219'>220</a>\u001b[0m         has_ki_header\u001b[39m=\u001b[39mhas_ki_header,\n\u001b[1;32m    <a href='file:///Users/ethanzeigler/Programming/KI/moonlight/moonlight/net/control.py?line=220'>221</a>\u001b[0m     )\n\u001b[1;32m    <a href='file:///Users/ethanzeigler/Programming/KI/moonlight/moonlight/net/control.py?line=221'>222</a>\u001b[0m \u001b[39mif\u001b[39;00m opcode \u001b[39m==\u001b[39m KeepAliveMessage\u001b[39m.\u001b[39mOPCODE:\n\u001b[0;32m--> <a href='file:///Users/ethanzeigler/Programming/KI/moonlight/moonlight/net/control.py?line=222'>223</a>\u001b[0m     \u001b[39mreturn\u001b[39;00m KeepAliveMessage\u001b[39m.\u001b[39;49mfrom_bytes(\n\u001b[1;32m    <a href='file:///Users/ethanzeigler/Programming/KI/moonlight/moonlight/net/control.py?line=223'>224</a>\u001b[0m         packet_header\u001b[39m=\u001b[39;49mheader,\n\u001b[1;32m    <a href='file:///Users/ethanzeigler/Programming/KI/moonlight/moonlight/net/control.py?line=224'>225</a>\u001b[0m         reader\u001b[39m=\u001b[39;49mreader,\n\u001b[1;32m    <a href='file:///Users/ethanzeigler/Programming/KI/moonlight/moonlight/net/control.py?line=225'>226</a>\u001b[0m         original_data\u001b[39m=\u001b[39;49moriginal_data,\n\u001b[1;32m    <a href='file:///Users/ethanzeigler/Programming/KI/moonlight/moonlight/net/control.py?line=226'>227</a>\u001b[0m         has_ki_header\u001b[39m=\u001b[39;49mhas_ki_header,\n\u001b[1;32m    <a href='file:///Users/ethanzeigler/Programming/KI/moonlight/moonlight/net/control.py?line=227'>228</a>\u001b[0m     )\n\u001b[1;32m    <a href='file:///Users/ethanzeigler/Programming/KI/moonlight/moonlight/net/control.py?line=228'>229</a>\u001b[0m \u001b[39mif\u001b[39;00m opcode \u001b[39m==\u001b[39m KeepAliveResponseMessage\u001b[39m.\u001b[39mOPCODE:\n\u001b[1;32m    <a href='file:///Users/ethanzeigler/Programming/KI/moonlight/moonlight/net/control.py?line=229'>230</a>\u001b[0m     \u001b[39mreturn\u001b[39;00m KeepAliveResponseMessage\u001b[39m.\u001b[39mfrom_bytes(\n\u001b[1;32m    <a href='file:///Users/ethanzeigler/Programming/KI/moonlight/moonlight/net/control.py?line=230'>231</a>\u001b[0m         packet_header\u001b[39m=\u001b[39mheader,\n\u001b[1;32m    <a href='file:///Users/ethanzeigler/Programming/KI/moonlight/moonlight/net/control.py?line=231'>232</a>\u001b[0m         reader\u001b[39m=\u001b[39mreader,\n\u001b[1;32m    <a href='file:///Users/ethanzeigler/Programming/KI/moonlight/moonlight/net/control.py?line=232'>233</a>\u001b[0m         original_data\u001b[39m=\u001b[39moriginal_data,\n\u001b[1;32m    <a href='file:///Users/ethanzeigler/Programming/KI/moonlight/moonlight/net/control.py?line=233'>234</a>\u001b[0m         has_ki_header\u001b[39m=\u001b[39mhas_ki_header,\n\u001b[1;32m    <a href='file:///Users/ethanzeigler/Programming/KI/moonlight/moonlight/net/control.py?line=234'>235</a>\u001b[0m     )\n",
      "File \u001b[0;32m~/Programming/KI/moonlight/moonlight/net/control.py:178\u001b[0m, in \u001b[0;36mKeepAliveMessage.from_bytes\u001b[0;34m(cls, reader, original_data, packet_header, has_ki_header)\u001b[0m\n\u001b[1;32m    <a href='file:///Users/ethanzeigler/Programming/KI/moonlight/moonlight/net/control.py?line=175'>176</a>\u001b[0m variable_timestamp \u001b[39m=\u001b[39m reader\u001b[39m.\u001b[39mread(DMLType\u001b[39m.\u001b[39mUINT32)\n\u001b[1;32m    <a href='file:///Users/ethanzeigler/Programming/KI/moonlight/moonlight/net/control.py?line=176'>177</a>\u001b[0m \u001b[39mif\u001b[39;00m reader\u001b[39m.\u001b[39mbytes_remaining \u001b[39m!=\u001b[39m \u001b[39m1\u001b[39m \u001b[39mor\u001b[39;00m reader\u001b[39m.\u001b[39mread_raw(\u001b[39m1\u001b[39m) \u001b[39m!=\u001b[39m \u001b[39m0x0\u001b[39m:\n\u001b[0;32m--> <a href='file:///Users/ethanzeigler/Programming/KI/moonlight/moonlight/net/control.py?line=177'>178</a>\u001b[0m     \u001b[39mraise\u001b[39;00m \u001b[39mValueError\u001b[39;00m(\u001b[39m\"\u001b[39m\u001b[39mpacket did not end with a null byte\u001b[39m\u001b[39m\"\u001b[39m)\n\u001b[1;32m    <a href='file:///Users/ethanzeigler/Programming/KI/moonlight/moonlight/net/control.py?line=179'>180</a>\u001b[0m \u001b[39mreturn\u001b[39;00m \u001b[39mcls\u001b[39m(\n\u001b[1;32m    <a href='file:///Users/ethanzeigler/Programming/KI/moonlight/moonlight/net/control.py?line=180'>181</a>\u001b[0m     original_bytes\u001b[39m=\u001b[39moriginal_data,\n\u001b[1;32m    <a href='file:///Users/ethanzeigler/Programming/KI/moonlight/moonlight/net/control.py?line=181'>182</a>\u001b[0m     packet_header\u001b[39m=\u001b[39mpacket_header,\n\u001b[1;32m    <a href='file:///Users/ethanzeigler/Programming/KI/moonlight/moonlight/net/control.py?line=182'>183</a>\u001b[0m     session_id\u001b[39m=\u001b[39msession_id,\n\u001b[1;32m    <a href='file:///Users/ethanzeigler/Programming/KI/moonlight/moonlight/net/control.py?line=183'>184</a>\u001b[0m     variable_timestamp\u001b[39m=\u001b[39mvariable_timestamp,\n\u001b[1;32m    <a href='file:///Users/ethanzeigler/Programming/KI/moonlight/moonlight/net/control.py?line=184'>185</a>\u001b[0m )\n",
      "\u001b[0;31mValueError\u001b[0m: packet did not end with a null byte"
     ]
    }
   ],
   "source": [
    "msg = pr.decode_packet(bytes(packet[TCP].payload))\n",
    "pp.pprint(msg)"
   ]
  }
 ],
 "metadata": {
  "interpreter": {
   "hash": "dfd5ee3b562da3835ba57bb3df45a18f6804d035fd03673216213476a026c2a9"
  },
  "kernelspec": {
   "display_name": "Python 3.10.2 ('moonlight-c61LQZnc-py3.10')",
   "language": "python",
   "name": "python3"
  },
  "language_info": {
   "codemirror_mode": {
    "name": "ipython",
    "version": 3
   },
   "file_extension": ".py",
   "mimetype": "text/x-python",
   "name": "python",
   "nbconvert_exporter": "python",
   "pygments_lexer": "ipython3",
   "version": "3.10.2"
  },
  "orig_nbformat": 4
 },
 "nbformat": 4,
 "nbformat_minor": 2
}
