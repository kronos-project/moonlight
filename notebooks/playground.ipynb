{
 "cells": [
  {
   "cell_type": "code",
   "execution_count": null,
   "metadata": {},
   "outputs": [],
   "source": [
    "from moonlight.net.object_property import build_typecache\n",
    "from moonlight.net.scapy import PcapReader\n",
    "from moonlight.net import FlagtoolMessage\n",
    "from pathlib import Path"
   ]
  },
  {
   "cell_type": "code",
   "execution_count": null,
   "metadata": {},
   "outputs": [],
   "source": [
    "\n",
    "cache = build_typecache(\"../../traffic-analysis/typedefs/r716710_WizardDev.json\")\n",
    "pcap = PcapReader(\n",
    "    pcap_path=\"../../traffic-analysis/raw/r716710-WizardDev/flagtest.pcapng\",\n",
    "    msg_def_folder=Path(\"../../traffic-analysis/messagedefs/r716710-WizardDev\"),\n",
    "    silence_decode_errors=True\n",
    ")"
   ]
  },
  {
   "cell_type": "markdown",
   "metadata": {},
   "source": []
  },
  {
   "cell_type": "code",
   "execution_count": null,
   "metadata": {},
   "outputs": [],
   "source": [
    "msgs: list[FlagtoolMessage] = [msg for msg in pcap if isinstance(msg, FlagtoolMessage)]\n",
    "msgs"
   ]
  },
  {
   "cell_type": "code",
   "execution_count": null,
   "metadata": {},
   "outputs": [],
   "source": []
  },
  {
   "cell_type": "code",
   "execution_count": null,
   "metadata": {},
   "outputs": [],
   "source": [
    "hashes = set(map(lambda x: x.serializer_hash, msgs))\n",
    "hashes = set(map(cache.get_with_hash, hashes))\n",
    "classes = set(map(lambda x: x.name, hashes))\n",
    "classes"
   ]
  },
  {
   "cell_type": "code",
   "execution_count": null,
   "metadata": {},
   "outputs": [],
   "source": [
    "properties = cache.get_with_hash(397226820).properties\n",
    "print(1)"
   ]
  }
 ],
 "metadata": {
  "interpreter": {
   "hash": "dfd5ee3b562da3835ba57bb3df45a18f6804d035fd03673216213476a026c2a9"
  },
  "kernelspec": {
   "display_name": "Python 3.10.2 ('moonlight-c61LQZnc-py3.10')",
   "language": "python",
   "name": "python3"
  },
  "language_info": {
   "codemirror_mode": {
    "name": "ipython",
    "version": 3
   },
   "file_extension": ".py",
   "mimetype": "text/x-python",
   "name": "python",
   "nbconvert_exporter": "python",
   "pygments_lexer": "ipython3",
   "version": "3.10.4"
  },
  "orig_nbformat": 4
 },
 "nbformat": 4,
 "nbformat_minor": 2
}
