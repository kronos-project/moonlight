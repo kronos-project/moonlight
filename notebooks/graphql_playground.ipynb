{
 "cells": [
  {
   "cell_type": "code",
   "execution_count": 5,
   "metadata": {},
   "outputs": [],
   "source": [
    "from ariadne import QueryType, gql, make_executable_schema\n",
    "from ariadne.asgi import GraphQL"
   ]
  },
  {
   "cell_type": "code",
   "execution_count": 2,
   "metadata": {},
   "outputs": [],
   "source": [
    "\n",
    "type_defs = gql(\"\"\"\n",
    "    type Query {\n",
    "        hello: String!\n",
    "    }\n",
    "\"\"\")\n"
   ]
  },
  {
   "cell_type": "code",
   "execution_count": 3,
   "metadata": {},
   "outputs": [],
   "source": [
    "# Create QueryType instance for Query type defined in our schema...\n",
    "query = QueryType()\n",
    "\n",
    "\n",
    "# ...and assign our resolver function to its \"hello\" field.\n",
    "@query.field(\"hello\")\n",
    "def resolve_hello(_, info):\n",
    "    request = info.context[\"request\"]\n",
    "    user_agent = request.headers.get(\"user-agent\", \"guest\")\n",
    "    return \"Hello, %s!\" % user_agent"
   ]
  },
  {
   "cell_type": "code",
   "execution_count": 4,
   "metadata": {},
   "outputs": [],
   "source": [
    "schema = make_executable_schema(type_defs, query)"
   ]
  },
  {
   "cell_type": "code",
   "execution_count": null,
   "metadata": {},
   "outputs": [],
   "source": [
    "app = GraphQL(schema, debug=True)"
   ]
  }
 ],
 "metadata": {
  "interpreter": {
   "hash": "dfd5ee3b562da3835ba57bb3df45a18f6804d035fd03673216213476a026c2a9"
  },
  "kernelspec": {
   "display_name": "Python 3.10.2 ('moonlight-c61LQZnc-py3.10')",
   "language": "python",
   "name": "python3"
  },
  "language_info": {
   "codemirror_mode": {
    "name": "ipython",
    "version": 3
   },
   "file_extension": ".py",
   "mimetype": "text/x-python",
   "name": "python",
   "nbconvert_exporter": "python",
   "pygments_lexer": "ipython3",
   "version": "3.10.2"
  },
  "orig_nbformat": 4
 },
 "nbformat": 4,
 "nbformat_minor": 2
}
